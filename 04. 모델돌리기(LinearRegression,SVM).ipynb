{
 "cells": [
  {
   "cell_type": "code",
   "execution_count": 1,
   "metadata": {},
   "outputs": [],
   "source": [
    "# 빅콘 영화\n",
    "# https://github.com/hyeonho1028/BigContest#3-svm\n",
    "# \n",
    "\n",
    "# svm 파라미터 grid search\n",
    "# https://bizzengine.tistory.com/168"
   ]
  },
  {
   "cell_type": "code",
   "execution_count": 2,
   "metadata": {},
   "outputs": [],
   "source": [
    "import numpy as np\n",
    "import pandas as pd\n",
    "from sklearn.model_selection import train_test_split\n",
    "from sklearn.linear_model import LinearRegression"
   ]
  },
  {
   "cell_type": "code",
   "execution_count": 3,
   "metadata": {},
   "outputs": [],
   "source": [
    "test = pd.read_csv(\"test1.csv\")\n",
    "train = pd.read_csv(\"train1.csv\")\n",
    "submission = pd.read_csv(\"submission.csv\",encoding = 'euc-kr')"
   ]
  },
  {
   "cell_type": "code",
   "execution_count": 4,
   "metadata": {},
   "outputs": [],
   "source": [
    "X = train.iloc[:,0:-1]   # train데이터에서 마지막에 있는 관객수 를제외한 나머지 데이터\n",
    "y = train.iloc[:,-1]     # train데이터에서 마지막에 있는 관객수 데이터"
   ]
  },
  {
   "cell_type": "code",
   "execution_count": 5,
   "metadata": {},
   "outputs": [
    {
     "data": {
      "text/html": [
       "<div>\n",
       "<style scoped>\n",
       "    .dataframe tbody tr th:only-of-type {\n",
       "        vertical-align: middle;\n",
       "    }\n",
       "\n",
       "    .dataframe tbody tr th {\n",
       "        vertical-align: top;\n",
       "    }\n",
       "\n",
       "    .dataframe thead th {\n",
       "        text-align: right;\n",
       "    }\n",
       "</style>\n",
       "<table border=\"1\" class=\"dataframe\">\n",
       "  <thead>\n",
       "    <tr style=\"text-align: right;\">\n",
       "      <th></th>\n",
       "      <th>time</th>\n",
       "      <th>dir_prev_bfnum</th>\n",
       "      <th>dir_prev_num</th>\n",
       "      <th>num_staff</th>\n",
       "      <th>num_actor</th>\n",
       "      <th>new_screening_rat</th>\n",
       "      <th>new_genre</th>\n",
       "      <th>new_num</th>\n",
       "      <th>distributor_group</th>\n",
       "      <th>year</th>\n",
       "      <th>month</th>\n",
       "      <th>box_off_num</th>\n",
       "    </tr>\n",
       "  </thead>\n",
       "  <tbody>\n",
       "    <tr>\n",
       "      <th>0</th>\n",
       "      <td>96</td>\n",
       "      <td>0.00</td>\n",
       "      <td>0</td>\n",
       "      <td>91</td>\n",
       "      <td>2</td>\n",
       "      <td>3</td>\n",
       "      <td>10</td>\n",
       "      <td>76</td>\n",
       "      <td>2</td>\n",
       "      <td>2012</td>\n",
       "      <td>11</td>\n",
       "      <td>23398</td>\n",
       "    </tr>\n",
       "    <tr>\n",
       "      <th>1</th>\n",
       "      <td>130</td>\n",
       "      <td>1161602.50</td>\n",
       "      <td>2</td>\n",
       "      <td>387</td>\n",
       "      <td>3</td>\n",
       "      <td>3</td>\n",
       "      <td>2</td>\n",
       "      <td>38</td>\n",
       "      <td>2</td>\n",
       "      <td>2015</td>\n",
       "      <td>11</td>\n",
       "      <td>7072501</td>\n",
       "    </tr>\n",
       "    <tr>\n",
       "      <th>2</th>\n",
       "      <td>123</td>\n",
       "      <td>220775.25</td>\n",
       "      <td>4</td>\n",
       "      <td>343</td>\n",
       "      <td>4</td>\n",
       "      <td>1</td>\n",
       "      <td>10</td>\n",
       "      <td>38</td>\n",
       "      <td>2</td>\n",
       "      <td>2013</td>\n",
       "      <td>6</td>\n",
       "      <td>6959083</td>\n",
       "    </tr>\n",
       "    <tr>\n",
       "      <th>3</th>\n",
       "      <td>101</td>\n",
       "      <td>23894.00</td>\n",
       "      <td>2</td>\n",
       "      <td>20</td>\n",
       "      <td>6</td>\n",
       "      <td>2</td>\n",
       "      <td>11</td>\n",
       "      <td>36</td>\n",
       "      <td>2</td>\n",
       "      <td>2012</td>\n",
       "      <td>7</td>\n",
       "      <td>217866</td>\n",
       "    </tr>\n",
       "    <tr>\n",
       "      <th>4</th>\n",
       "      <td>108</td>\n",
       "      <td>1.00</td>\n",
       "      <td>1</td>\n",
       "      <td>251</td>\n",
       "      <td>2</td>\n",
       "      <td>1</td>\n",
       "      <td>11</td>\n",
       "      <td>4</td>\n",
       "      <td>0</td>\n",
       "      <td>2010</td>\n",
       "      <td>11</td>\n",
       "      <td>483387</td>\n",
       "    </tr>\n",
       "    <tr>\n",
       "      <th>...</th>\n",
       "      <td>...</td>\n",
       "      <td>...</td>\n",
       "      <td>...</td>\n",
       "      <td>...</td>\n",
       "      <td>...</td>\n",
       "      <td>...</td>\n",
       "      <td>...</td>\n",
       "      <td>...</td>\n",
       "      <td>...</td>\n",
       "      <td>...</td>\n",
       "      <td>...</td>\n",
       "      <td>...</td>\n",
       "    </tr>\n",
       "    <tr>\n",
       "      <th>595</th>\n",
       "      <td>111</td>\n",
       "      <td>3833.00</td>\n",
       "      <td>1</td>\n",
       "      <td>510</td>\n",
       "      <td>7</td>\n",
       "      <td>3</td>\n",
       "      <td>4</td>\n",
       "      <td>36</td>\n",
       "      <td>2</td>\n",
       "      <td>2014</td>\n",
       "      <td>8</td>\n",
       "      <td>1475091</td>\n",
       "    </tr>\n",
       "    <tr>\n",
       "      <th>596</th>\n",
       "      <td>127</td>\n",
       "      <td>496061.00</td>\n",
       "      <td>1</td>\n",
       "      <td>286</td>\n",
       "      <td>6</td>\n",
       "      <td>1</td>\n",
       "      <td>4</td>\n",
       "      <td>38</td>\n",
       "      <td>2</td>\n",
       "      <td>2013</td>\n",
       "      <td>3</td>\n",
       "      <td>1716438</td>\n",
       "    </tr>\n",
       "    <tr>\n",
       "      <th>597</th>\n",
       "      <td>99</td>\n",
       "      <td>0.00</td>\n",
       "      <td>0</td>\n",
       "      <td>123</td>\n",
       "      <td>4</td>\n",
       "      <td>3</td>\n",
       "      <td>1</td>\n",
       "      <td>43</td>\n",
       "      <td>2</td>\n",
       "      <td>2010</td>\n",
       "      <td>9</td>\n",
       "      <td>2475</td>\n",
       "    </tr>\n",
       "    <tr>\n",
       "      <th>598</th>\n",
       "      <td>102</td>\n",
       "      <td>0.00</td>\n",
       "      <td>0</td>\n",
       "      <td>431</td>\n",
       "      <td>4</td>\n",
       "      <td>1</td>\n",
       "      <td>2</td>\n",
       "      <td>85</td>\n",
       "      <td>2</td>\n",
       "      <td>2015</td>\n",
       "      <td>5</td>\n",
       "      <td>2192525</td>\n",
       "    </tr>\n",
       "    <tr>\n",
       "      <th>599</th>\n",
       "      <td>120</td>\n",
       "      <td>0.00</td>\n",
       "      <td>0</td>\n",
       "      <td>363</td>\n",
       "      <td>5</td>\n",
       "      <td>1</td>\n",
       "      <td>10</td>\n",
       "      <td>85</td>\n",
       "      <td>2</td>\n",
       "      <td>2013</td>\n",
       "      <td>1</td>\n",
       "      <td>7166532</td>\n",
       "    </tr>\n",
       "  </tbody>\n",
       "</table>\n",
       "<p>600 rows × 12 columns</p>\n",
       "</div>"
      ],
      "text/plain": [
       "     time  dir_prev_bfnum  dir_prev_num  num_staff  num_actor  \\\n",
       "0      96            0.00             0         91          2   \n",
       "1     130      1161602.50             2        387          3   \n",
       "2     123       220775.25             4        343          4   \n",
       "3     101        23894.00             2         20          6   \n",
       "4     108            1.00             1        251          2   \n",
       "..    ...             ...           ...        ...        ...   \n",
       "595   111         3833.00             1        510          7   \n",
       "596   127       496061.00             1        286          6   \n",
       "597    99            0.00             0        123          4   \n",
       "598   102            0.00             0        431          4   \n",
       "599   120            0.00             0        363          5   \n",
       "\n",
       "     new_screening_rat  new_genre  new_num  distributor_group  year  month  \\\n",
       "0                    3         10       76                  2  2012     11   \n",
       "1                    3          2       38                  2  2015     11   \n",
       "2                    1         10       38                  2  2013      6   \n",
       "3                    2         11       36                  2  2012      7   \n",
       "4                    1         11        4                  0  2010     11   \n",
       "..                 ...        ...      ...                ...   ...    ...   \n",
       "595                  3          4       36                  2  2014      8   \n",
       "596                  1          4       38                  2  2013      3   \n",
       "597                  3          1       43                  2  2010      9   \n",
       "598                  1          2       85                  2  2015      5   \n",
       "599                  1         10       85                  2  2013      1   \n",
       "\n",
       "     box_off_num  \n",
       "0          23398  \n",
       "1        7072501  \n",
       "2        6959083  \n",
       "3         217866  \n",
       "4         483387  \n",
       "..           ...  \n",
       "595      1475091  \n",
       "596      1716438  \n",
       "597         2475  \n",
       "598      2192525  \n",
       "599      7166532  \n",
       "\n",
       "[600 rows x 12 columns]"
      ]
     },
     "execution_count": 5,
     "metadata": {},
     "output_type": "execute_result"
    }
   ],
   "source": [
    "train"
   ]
  },
  {
   "cell_type": "code",
   "execution_count": 33,
   "metadata": {},
   "outputs": [],
   "source": [
    "x_data = X.to_numpy()\n",
    "y_data = y.to_numpy()"
   ]
  },
  {
   "cell_type": "code",
   "execution_count": 34,
   "metadata": {},
   "outputs": [],
   "source": [
    "x_train, x_test, y_train, y_test = train_test_split(X, y, test_size=0.5, random_state=777)"
   ]
  },
  {
   "cell_type": "code",
   "execution_count": 35,
   "metadata": {},
   "outputs": [
    {
     "data": {
      "text/plain": [
       "LinearRegression(copy_X=True, fit_intercept=True, n_jobs=None, normalize=False)"
      ]
     },
     "execution_count": 35,
     "metadata": {},
     "output_type": "execute_result"
    }
   ],
   "source": [
    "# 모델학습\n",
    "model = LinearRegression()\n",
    "model.fit(x_train, y_train)"
   ]
  },
  {
   "cell_type": "code",
   "execution_count": 36,
   "metadata": {},
   "outputs": [
    {
     "name": "stdout",
     "output_type": "stream",
     "text": [
      "0.2223468156058097\n"
     ]
    }
   ],
   "source": [
    "# 모델 검증\n",
    "print(model.score(x_test, y_test))"
   ]
  },
  {
   "cell_type": "code",
   "execution_count": 37,
   "metadata": {},
   "outputs": [
    {
     "name": "stdout",
     "output_type": "stream",
     "text": [
      "[ 1.09444802e+06  1.22155193e+06  3.13878885e+06  2.16052613e+06\n",
      "  1.74889734e+06  3.57181140e+05 -7.34861417e+04  8.28026430e+04\n",
      " -6.86854965e+04  1.09161437e+06  1.09565905e+06  1.53311997e+06\n",
      "  9.37855793e+05 -1.25983029e+04  1.85961469e+06  2.86602469e+06\n",
      " -4.58832518e+04  1.21432591e+06  1.13548748e+06  1.01011846e+05\n",
      " -5.15365671e+05  1.89486533e+05  3.29068087e+05 -2.38154984e+05\n",
      " -2.93312712e+05  3.49484443e+06 -6.56991729e+04  1.79575083e+06\n",
      "  3.46886567e+05  2.53637581e+05  1.55370472e+06 -3.45945052e+05\n",
      " -3.36719508e+05  1.43196377e+06 -2.09244671e+05  2.05441152e+04\n",
      " -6.10180234e+04 -4.33427572e+05 -9.85979899e+04 -5.34458631e+05\n",
      "  4.09628955e+04  1.22713044e+05  7.44786112e+04  4.66729441e+05\n",
      "  6.59129028e+05  2.40058614e+06 -2.34265673e+05  3.12911181e+05\n",
      "  8.94753910e+05 -5.36226877e+05 -2.07432699e+05  7.25763828e+05\n",
      "  3.30764124e+05  1.15466845e+06  1.29447216e+06  3.29304530e+05\n",
      "  1.74952054e+04  1.89180610e+06  2.16842936e+06  1.63207261e+06\n",
      "  2.08634114e+06  2.28651154e+06  7.39957492e+05 -9.06927831e+04\n",
      "  4.14846042e+05 -1.39119568e+05  2.11067997e+06  3.42706537e+05\n",
      "  6.41703518e+05  9.19093026e+05  2.38226925e+06  1.50146646e+06\n",
      " -3.69900717e+05  1.53414307e+06  9.46760690e+05 -3.76230200e+05\n",
      "  1.61870552e+06  5.10355860e+05  3.90963375e+05  5.54681325e+04\n",
      "  4.58289460e+05  1.49263938e+06  4.42171776e+05  1.96131046e+06\n",
      " -1.41478580e+05  1.97281785e+06 -5.15816645e+04 -1.18751308e+05\n",
      " -8.90856163e+04  1.12861941e+06 -1.37570409e+05 -1.00548568e+05\n",
      "  1.11575372e+06  1.64342517e+06  3.49096484e+05 -1.36379341e+05\n",
      "  1.70012483e+05  9.65768338e+04  6.32160860e+05  1.15849796e+06\n",
      "  9.88795743e+05  1.66093031e+06 -3.16479533e+05  2.83294752e+05\n",
      "  1.79554286e+06  5.26411413e+05  2.22025550e+06 -7.69230718e+04\n",
      "  2.31272403e+06 -1.85024755e+05 -5.66466747e+04  1.62019120e+06\n",
      "  1.79998456e+06  2.34196126e+05  1.12584083e+05  1.53654772e+06\n",
      "  3.75402232e+05  1.24896404e+06  5.08044557e+05 -3.14458858e+05\n",
      "  3.66475983e+04  1.40610424e+06  1.29418954e+06 -3.54184725e+04\n",
      " -2.68304947e+05 -6.17928522e+04  6.60825512e+04 -2.07322717e+05\n",
      "  7.98702115e+05 -1.90271837e+05 -6.49377197e+05  1.38725352e+06\n",
      " -1.51730458e+05 -2.90640115e+05  2.62136193e+06  2.33376027e+06\n",
      " -1.44268712e+05  1.86998488e+06  6.39027876e+05 -5.76021109e+05\n",
      " -5.37507672e+05  1.88967257e+06  2.37094571e+06  6.12261541e+05\n",
      " -1.22670930e+05  2.21712218e+06  2.35153976e+05  3.30433173e+05\n",
      "  2.56563879e+06  2.31713124e+06  8.01358570e+05  4.28275385e+05\n",
      " -3.03656259e+04  2.96987776e+05  2.01015704e+05  1.37706293e+06\n",
      "  3.49329098e+05  2.89120473e+04  3.77445962e+06  2.18054054e+06\n",
      "  1.04017141e+06  3.06845402e+06  1.10241254e+06  8.08207864e+05\n",
      " -5.07855146e+04  1.24587502e+05  2.33041113e+06 -3.78295481e+05\n",
      " -1.35609331e+05  4.32528489e+04 -2.37847530e+05 -5.66230432e+04\n",
      "  8.45099566e+05 -9.95327134e+03  1.42566873e+06  8.48291894e+05\n",
      "  1.11530904e+04  3.28645562e+04  5.27096826e+06  3.69369990e+06\n",
      "  6.02642523e+05 -8.35219873e+04 -7.36202971e+04  8.63558453e+05\n",
      "  3.04343035e+06 -2.51964647e+05  2.18677260e+05  3.59838578e+05\n",
      " -3.89613814e+05  1.27619598e+06  1.84023555e+05 -1.30659845e+05\n",
      " -2.36497967e+05 -3.89969030e+05 -8.35219873e+04  2.37531307e+06\n",
      "  8.49351321e+04  1.92535820e+06 -7.64641371e+04  2.17526068e+06\n",
      "  5.08220863e+05 -2.98706776e+05  3.32047946e+04  8.27278380e+05\n",
      "  6.02306013e+05  1.42993154e+06  2.36669972e+06  2.00252721e+06\n",
      "  4.10116859e+05  2.66713538e+06  6.62304269e+05  1.67963066e+06\n",
      "  2.92108845e+06  1.22371758e+06  7.14729003e+04 -1.88697012e+05\n",
      "  2.97637303e+06  1.26406412e+04 -6.37270942e+04  1.87160113e+05\n",
      "  5.09561213e+05  3.50201748e+06  9.66279264e+04  4.42435328e+05\n",
      "  1.81709407e+07  3.29868960e+05 -1.89348546e+05  1.81037237e+06\n",
      "  1.24378305e+05  3.00382616e+06  2.63708012e+05  2.15927107e+06\n",
      "  7.67310743e+05 -5.77020906e+05  1.70667836e+05  3.20617760e+05\n",
      "  6.90840662e+05 -1.86227785e+05 -3.83260995e+05  1.88977553e+05\n",
      "  6.75557067e+05 -2.49953575e+04 -2.22363874e+05]\n"
     ]
    }
   ],
   "source": [
    "# 예측!\n",
    "x_test = test\n",
    "\n",
    "y_predict = model.predict(x_test)\n",
    "print(y_predict) "
   ]
  },
  {
   "cell_type": "code",
   "execution_count": 18,
   "metadata": {},
   "outputs": [],
   "source": [
    "# 예측을 했지만 음수로 나오는 값들도 있다. 그런데 관객수가 음수라는 것이 이상하다. \n",
    "# 다른 모델을 적용!"
   ]
  },
  {
   "cell_type": "markdown",
   "metadata": {},
   "source": [
    "### SVM"
   ]
  },
  {
   "cell_type": "code",
   "execution_count": 6,
   "metadata": {},
   "outputs": [],
   "source": [
    "from sklearn.svm import SVC"
   ]
  },
  {
   "cell_type": "code",
   "execution_count": 39,
   "metadata": {},
   "outputs": [],
   "source": [
    "X = train.iloc[:,0:-1]   # train데이터에서 마지막에 있는 관객수 를제외한 나머지 데이터\n",
    "y = train.iloc[:,-1]  "
   ]
  },
  {
   "cell_type": "code",
   "execution_count": 40,
   "metadata": {},
   "outputs": [],
   "source": [
    "x_train, x_test, y_train, y_test = train_test_split(X, y,\n",
    "                                                    test_size=0.3, random_state=777)"
   ]
  },
  {
   "cell_type": "code",
   "execution_count": 41,
   "metadata": {},
   "outputs": [],
   "source": [
    "##########모델 생성\n",
    "model = SVC() "
   ]
  },
  {
   "cell_type": "code",
   "execution_count": 42,
   "metadata": {},
   "outputs": [
    {
     "data": {
      "text/plain": [
       "SVC(C=1.0, break_ties=False, cache_size=200, class_weight=None, coef0=0.0,\n",
       "    decision_function_shape='ovr', degree=3, gamma='scale', kernel='rbf',\n",
       "    max_iter=-1, probability=False, random_state=None, shrinking=True,\n",
       "    tol=0.001, verbose=False)"
      ]
     },
     "execution_count": 42,
     "metadata": {},
     "output_type": "execute_result"
    }
   ],
   "source": [
    "model.fit(x_train, y_train)"
   ]
  },
  {
   "cell_type": "code",
   "execution_count": 43,
   "metadata": {},
   "outputs": [
    {
     "name": "stdout",
     "output_type": "stream",
     "text": [
      "0.1619047619047619\n",
      "0.0\n"
     ]
    }
   ],
   "source": [
    "##########모델 검증\n",
    "print(model.score(x_train, y_train)) \n",
    "print(model.score(x_test, y_test)) "
   ]
  },
  {
   "cell_type": "code",
   "execution_count": 44,
   "metadata": {},
   "outputs": [
    {
     "name": "stdout",
     "output_type": "stream",
     "text": [
      "[    1250     1250  2057896     1250     1250     1547     4586     1547\n",
      "     1547     1547     1250     1250     1547     1240  1166025     1250\n",
      "     1547     1547     1547      745     4586     1240     1250  1649407\n",
      "     4586   402876      745     1547     1547     1547     1547     4586\n",
      "      745     1250     1240     1250     4586     4586     1240     4586\n",
      "     1250     4586     4586   387408     1547  1649407     4586     1547\n",
      "     1250     4586     1250     1547     1547     1250     1547     1547\n",
      "     1250     1547     1250     1547     1250     1547     1547     1547\n",
      "     1547     1240     1250     1240     1250     1547     1250     1547\n",
      "      745     1547 12706663     4586     1250     1547     1547      745\n",
      "     1547     1250     1547     1547      745     1250     1250      745\n",
      "      745     1250      745     4586     1547     1250     1250     1250\n",
      "     1547     1240     1547     1547     1250     1547     1250     1240\n",
      "     1250     1240     1250     1240    43947     4586      745     1250\n",
      "     1250     1240     1547     1250     1547     1547     1240     1250\n",
      "     4586     1547     1547      745     4586      745      745      745\n",
      "     1547     1250     4586     1547      745      745  2084844  1046313\n",
      "     1250  1046313     1240     4586      745     1547   101698     1547\n",
      "     4586  7759711      745     1250     1250     1250     1547     1547\n",
      "     1547     1547     1250     1250      745      745   729834     1250\n",
      "     1547    74261   387408     1250      745     1250   953682     4586\n",
      "     1240     1547     1250      745     1547     1240  2084844     1547\n",
      "     1250     1240    38809     1250     1547      745     4586  1046313\n",
      "    74261     1250     1240     1547      745     1250     1250      745\n",
      "     4586     1250      745     1547     1250     1547      745     1250\n",
      "     1547     4586     4586     1547     1250  1141222     1547  1141222\n",
      "     1547   120806      745     1547  1892125     1250      745     1240\n",
      "     1250     1547     4586     1240   120806   729834     1250     1547\n",
      "     1547     4586     4586     1250     1240     1250   387408  2084844\n",
      "     1250     1250     4586     1240  7482180     4586     1250      745\n",
      "     1547     1250      745]\n"
     ]
    }
   ],
   "source": [
    "##########모델 예측\n",
    "x_test = test\n",
    "\n",
    "y_predict = model.predict(x_test)\n",
    "print(y_predict) "
   ]
  },
  {
   "cell_type": "code",
   "execution_count": 34,
   "metadata": {},
   "outputs": [],
   "source": [
    "tt = submission.copy()"
   ]
  },
  {
   "cell_type": "code",
   "execution_count": 35,
   "metadata": {},
   "outputs": [
    {
     "data": {
      "text/html": [
       "<div>\n",
       "<style scoped>\n",
       "    .dataframe tbody tr th:only-of-type {\n",
       "        vertical-align: middle;\n",
       "    }\n",
       "\n",
       "    .dataframe tbody tr th {\n",
       "        vertical-align: top;\n",
       "    }\n",
       "\n",
       "    .dataframe thead th {\n",
       "        text-align: right;\n",
       "    }\n",
       "</style>\n",
       "<table border=\"1\" class=\"dataframe\">\n",
       "  <thead>\n",
       "    <tr style=\"text-align: right;\">\n",
       "      <th></th>\n",
       "      <th>title</th>\n",
       "      <th>box_off_num</th>\n",
       "    </tr>\n",
       "  </thead>\n",
       "  <tbody>\n",
       "    <tr>\n",
       "      <th>0</th>\n",
       "      <td>용서는 없다</td>\n",
       "      <td>0</td>\n",
       "    </tr>\n",
       "    <tr>\n",
       "      <th>1</th>\n",
       "      <td>아빠가 여자를 좋아해</td>\n",
       "      <td>0</td>\n",
       "    </tr>\n",
       "    <tr>\n",
       "      <th>2</th>\n",
       "      <td>하모니</td>\n",
       "      <td>0</td>\n",
       "    </tr>\n",
       "    <tr>\n",
       "      <th>3</th>\n",
       "      <td>의형제</td>\n",
       "      <td>0</td>\n",
       "    </tr>\n",
       "    <tr>\n",
       "      <th>4</th>\n",
       "      <td>평행 이론</td>\n",
       "      <td>0</td>\n",
       "    </tr>\n",
       "    <tr>\n",
       "      <th>...</th>\n",
       "      <td>...</td>\n",
       "      <td>...</td>\n",
       "    </tr>\n",
       "    <tr>\n",
       "      <th>238</th>\n",
       "      <td>해에게서 소년에게</td>\n",
       "      <td>0</td>\n",
       "    </tr>\n",
       "    <tr>\n",
       "      <th>239</th>\n",
       "      <td>울보 권투부</td>\n",
       "      <td>0</td>\n",
       "    </tr>\n",
       "    <tr>\n",
       "      <th>240</th>\n",
       "      <td>어떤살인</td>\n",
       "      <td>0</td>\n",
       "    </tr>\n",
       "    <tr>\n",
       "      <th>241</th>\n",
       "      <td>말하지 못한 비밀</td>\n",
       "      <td>0</td>\n",
       "    </tr>\n",
       "    <tr>\n",
       "      <th>242</th>\n",
       "      <td>조선안방 스캔들-칠거지악 2</td>\n",
       "      <td>0</td>\n",
       "    </tr>\n",
       "  </tbody>\n",
       "</table>\n",
       "<p>243 rows × 2 columns</p>\n",
       "</div>"
      ],
      "text/plain": [
       "               title  box_off_num\n",
       "0             용서는 없다            0\n",
       "1        아빠가 여자를 좋아해            0\n",
       "2                하모니            0\n",
       "3                의형제            0\n",
       "4              평행 이론            0\n",
       "..               ...          ...\n",
       "238        해에게서 소년에게            0\n",
       "239           울보 권투부            0\n",
       "240             어떤살인            0\n",
       "241        말하지 못한 비밀            0\n",
       "242  조선안방 스캔들-칠거지악 2            0\n",
       "\n",
       "[243 rows x 2 columns]"
      ]
     },
     "execution_count": 35,
     "metadata": {},
     "output_type": "execute_result"
    }
   ],
   "source": [
    "tt"
   ]
  },
  {
   "cell_type": "code",
   "execution_count": 36,
   "metadata": {},
   "outputs": [],
   "source": [
    "tt['box_off_num'] = model.predict(x_test)"
   ]
  },
  {
   "cell_type": "code",
   "execution_count": 37,
   "metadata": {},
   "outputs": [
    {
     "data": {
      "text/html": [
       "<div>\n",
       "<style scoped>\n",
       "    .dataframe tbody tr th:only-of-type {\n",
       "        vertical-align: middle;\n",
       "    }\n",
       "\n",
       "    .dataframe tbody tr th {\n",
       "        vertical-align: top;\n",
       "    }\n",
       "\n",
       "    .dataframe thead th {\n",
       "        text-align: right;\n",
       "    }\n",
       "</style>\n",
       "<table border=\"1\" class=\"dataframe\">\n",
       "  <thead>\n",
       "    <tr style=\"text-align: right;\">\n",
       "      <th></th>\n",
       "      <th>title</th>\n",
       "      <th>box_off_num</th>\n",
       "    </tr>\n",
       "  </thead>\n",
       "  <tbody>\n",
       "    <tr>\n",
       "      <th>0</th>\n",
       "      <td>용서는 없다</td>\n",
       "      <td>1250</td>\n",
       "    </tr>\n",
       "    <tr>\n",
       "      <th>1</th>\n",
       "      <td>아빠가 여자를 좋아해</td>\n",
       "      <td>1250</td>\n",
       "    </tr>\n",
       "    <tr>\n",
       "      <th>2</th>\n",
       "      <td>하모니</td>\n",
       "      <td>2057896</td>\n",
       "    </tr>\n",
       "    <tr>\n",
       "      <th>3</th>\n",
       "      <td>의형제</td>\n",
       "      <td>1250</td>\n",
       "    </tr>\n",
       "    <tr>\n",
       "      <th>4</th>\n",
       "      <td>평행 이론</td>\n",
       "      <td>1250</td>\n",
       "    </tr>\n",
       "    <tr>\n",
       "      <th>...</th>\n",
       "      <td>...</td>\n",
       "      <td>...</td>\n",
       "    </tr>\n",
       "    <tr>\n",
       "      <th>238</th>\n",
       "      <td>해에게서 소년에게</td>\n",
       "      <td>1250</td>\n",
       "    </tr>\n",
       "    <tr>\n",
       "      <th>239</th>\n",
       "      <td>울보 권투부</td>\n",
       "      <td>745</td>\n",
       "    </tr>\n",
       "    <tr>\n",
       "      <th>240</th>\n",
       "      <td>어떤살인</td>\n",
       "      <td>1547</td>\n",
       "    </tr>\n",
       "    <tr>\n",
       "      <th>241</th>\n",
       "      <td>말하지 못한 비밀</td>\n",
       "      <td>1250</td>\n",
       "    </tr>\n",
       "    <tr>\n",
       "      <th>242</th>\n",
       "      <td>조선안방 스캔들-칠거지악 2</td>\n",
       "      <td>745</td>\n",
       "    </tr>\n",
       "  </tbody>\n",
       "</table>\n",
       "<p>243 rows × 2 columns</p>\n",
       "</div>"
      ],
      "text/plain": [
       "               title  box_off_num\n",
       "0             용서는 없다         1250\n",
       "1        아빠가 여자를 좋아해         1250\n",
       "2                하모니      2057896\n",
       "3                의형제         1250\n",
       "4              평행 이론         1250\n",
       "..               ...          ...\n",
       "238        해에게서 소년에게         1250\n",
       "239           울보 권투부          745\n",
       "240             어떤살인         1547\n",
       "241        말하지 못한 비밀         1250\n",
       "242  조선안방 스캔들-칠거지악 2          745\n",
       "\n",
       "[243 rows x 2 columns]"
      ]
     },
     "execution_count": 37,
     "metadata": {},
     "output_type": "execute_result"
    }
   ],
   "source": [
    "tt"
   ]
  },
  {
   "cell_type": "code",
   "execution_count": 38,
   "metadata": {},
   "outputs": [],
   "source": [
    "tt.to_csv('tt.csv',index=False)"
   ]
  },
  {
   "cell_type": "markdown",
   "metadata": {},
   "source": [
    "### k-fold한 svm"
   ]
  },
  {
   "cell_type": "code",
   "execution_count": 7,
   "metadata": {},
   "outputs": [],
   "source": [
    "from sklearn.model_selection import KFold"
   ]
  },
  {
   "cell_type": "code",
   "execution_count": 8,
   "metadata": {},
   "outputs": [],
   "source": [
    "k = KFold(n_splits=6,shuffle=True,random_state=777)"
   ]
  },
  {
   "cell_type": "code",
   "execution_count": 9,
   "metadata": {},
   "outputs": [],
   "source": [
    " X_train,X_test,y_train = train.iloc[:,0:-1],test,train.iloc[:,-1]\n",
    "#X_train,X_test,y_train,y_test = train_test_split(train)"
   ]
  },
  {
   "cell_type": "code",
   "execution_count": 10,
   "metadata": {},
   "outputs": [
    {
     "name": "stdout",
     "output_type": "stream",
     "text": [
      "500 100\n",
      "500 100\n",
      "500 100\n",
      "500 100\n",
      "500 100\n",
      "500 100\n"
     ]
    }
   ],
   "source": [
    "for train_idx,val_idx in k.split(X_train):\n",
    "    print(len(train_idx),len(val_idx))"
   ]
  },
  {
   "cell_type": "code",
   "execution_count": 11,
   "metadata": {},
   "outputs": [],
   "source": [
    "from sklearn import svm,metrics \n",
    "from sklearn.svm import LinearSVC\n",
    "\n",
    "model  = LinearSVC(C=1,verbose=1,random_state=42) "
   ]
  },
  {
   "cell_type": "code",
   "execution_count": 12,
   "metadata": {},
   "outputs": [],
   "source": [
    "models=[]"
   ]
  },
  {
   "cell_type": "code",
   "execution_count": 13,
   "metadata": {},
   "outputs": [
    {
     "name": "stdout",
     "output_type": "stream",
     "text": [
      "[LibLinear]"
     ]
    },
    {
     "name": "stderr",
     "output_type": "stream",
     "text": [
      "C:\\Users\\ZENBOOK\\anaconda3\\lib\\site-packages\\sklearn\\svm\\_base.py:947: ConvergenceWarning: Liblinear failed to converge, increase the number of iterations.\n",
      "  \"the number of iterations.\", ConvergenceWarning)\n"
     ]
    },
    {
     "name": "stdout",
     "output_type": "stream",
     "text": [
      "[LibLinear]"
     ]
    },
    {
     "name": "stderr",
     "output_type": "stream",
     "text": [
      "C:\\Users\\ZENBOOK\\anaconda3\\lib\\site-packages\\sklearn\\svm\\_base.py:947: ConvergenceWarning: Liblinear failed to converge, increase the number of iterations.\n",
      "  \"the number of iterations.\", ConvergenceWarning)\n"
     ]
    },
    {
     "name": "stdout",
     "output_type": "stream",
     "text": [
      "[LibLinear]"
     ]
    },
    {
     "name": "stderr",
     "output_type": "stream",
     "text": [
      "C:\\Users\\ZENBOOK\\anaconda3\\lib\\site-packages\\sklearn\\svm\\_base.py:947: ConvergenceWarning: Liblinear failed to converge, increase the number of iterations.\n",
      "  \"the number of iterations.\", ConvergenceWarning)\n"
     ]
    },
    {
     "name": "stdout",
     "output_type": "stream",
     "text": [
      "[LibLinear]"
     ]
    },
    {
     "name": "stderr",
     "output_type": "stream",
     "text": [
      "C:\\Users\\ZENBOOK\\anaconda3\\lib\\site-packages\\sklearn\\svm\\_base.py:947: ConvergenceWarning: Liblinear failed to converge, increase the number of iterations.\n",
      "  \"the number of iterations.\", ConvergenceWarning)\n"
     ]
    },
    {
     "name": "stdout",
     "output_type": "stream",
     "text": [
      "[LibLinear]"
     ]
    },
    {
     "name": "stderr",
     "output_type": "stream",
     "text": [
      "C:\\Users\\ZENBOOK\\anaconda3\\lib\\site-packages\\sklearn\\svm\\_base.py:947: ConvergenceWarning: Liblinear failed to converge, increase the number of iterations.\n",
      "  \"the number of iterations.\", ConvergenceWarning)\n"
     ]
    },
    {
     "name": "stdout",
     "output_type": "stream",
     "text": [
      "[LibLinear]"
     ]
    },
    {
     "name": "stderr",
     "output_type": "stream",
     "text": [
      "C:\\Users\\ZENBOOK\\anaconda3\\lib\\site-packages\\sklearn\\svm\\_base.py:947: ConvergenceWarning: Liblinear failed to converge, increase the number of iterations.\n",
      "  \"the number of iterations.\", ConvergenceWarning)\n"
     ]
    }
   ],
   "source": [
    "for train_idx,val_idx in k.split(X_train):\n",
    "    x_t = X_train.iloc[train_idx]\n",
    "    y_t = y_train.iloc[train_idx]\n",
    "    x_val = X_train.iloc[val_idx]\n",
    "    y_val = y_train.iloc[val_idx]\n",
    "    \n",
    "    models.append(model.fit(x_t,y_t))"
   ]
  },
  {
   "cell_type": "code",
   "execution_count": 14,
   "metadata": {},
   "outputs": [],
   "source": [
    "preds = []\n",
    "for model in models:\n",
    "    preds.append(model.predict(X_test))\n",
    "    "
   ]
  },
  {
   "cell_type": "code",
   "execution_count": 15,
   "metadata": {},
   "outputs": [
    {
     "data": {
      "text/plain": [
       "[array([283449, 283449, 283449, 283449,    148,  75740,   1379,  75740,\n",
       "         75740,  75740, 283449, 283449,  75740,  75740, 283449, 283449,\n",
       "         75740,  75740,  75740,   1379,   1379,  75740, 283449, 283449,\n",
       "          1379, 283449,   1379,  75740,  75740,    148,  75740,   1379,\n",
       "          1379, 283449,  75740,    148,   1379,   1379,  75740,  75740,\n",
       "        283449,   1379,   1379, 283449,    148, 283449,   1379,  75740,\n",
       "        283449,   1379,    148,  75740,  75740, 283449,  75740,    148,\n",
       "           148,  75740, 283449,  75740, 283449,  75740,  75740,  75740,\n",
       "           148,  75740, 283449,  75740, 283449,  75740, 283449,  75740,\n",
       "          1379,  75740, 283449,   1379, 283449,  75740,  75740,   1379,\n",
       "         75740,    148,  75740,  75740,   1379, 283449, 283449,   1379,\n",
       "          1379, 283449,   1379,   1379,  75740, 283449, 283449, 283449,\n",
       "         75740,  75740,  75740,  75740, 283449,  75740, 283449,    148,\n",
       "        283449,    148, 283449,  75740, 283449,   1379,   1379,    148,\n",
       "        283449,   1379,    148,    148,    148,  75740,  75740, 283449,\n",
       "          1379,  75740,  75740,   1379,    148,   1379,   1379,   1379,\n",
       "         75740, 283449,   1379,  75740,   1379,   1379, 283449, 283449,\n",
       "           148, 283449,  75740,   1379,    148,  75740, 283449,  75740,\n",
       "          1379, 283449,   1379,    148, 283449, 283449,  75740,  75740,\n",
       "         75740,  75740, 283449, 283449,   1379,   1379, 283449,    148,\n",
       "         75740, 283449, 283449, 283449,   1379, 283449, 283449,   1379,\n",
       "         75740,  75740, 283449,   1379,  75740,  75740, 283449,  75740,\n",
       "        283449,    148, 283449, 283449,  75740,   1379,  75740, 283449,\n",
       "        283449,    148,  75740,  75740,    148, 283449,    148,   1379,\n",
       "          1379,    148,   1379,  75740, 283449,  75740,   1379, 283449,\n",
       "         75740,   1379,   1379,  75740, 283449, 283449,  75740, 283449,\n",
       "         75740, 283449,   1379,    148, 283449, 283449,   1379,  75740,\n",
       "        283449,  75740,   1379,  75740, 283449, 283449, 283449,  75740,\n",
       "          4398,   1379,   1379, 283449,  75740,    148, 283449, 283449,\n",
       "        283449,    148,  75740,  75740, 283449,   1379,    148,   1379,\n",
       "         75740,    148,   1379], dtype=int64),\n",
       " array([283449, 283449, 283449, 283449,    148,  75740,   1379,  75740,\n",
       "         75740,  75740, 283449, 283449,  75740,  75740, 283449, 283449,\n",
       "         75740,  75740,  75740,   1379,   1379,  75740, 283449, 283449,\n",
       "          1379, 283449,   1379,  75740,  75740,    148,  75740,   1379,\n",
       "          1379, 283449,  75740,    148,   1379,   1379,  75740,  75740,\n",
       "        283449,   1379,   1379, 283449,    148, 283449,   1379,  75740,\n",
       "        283449,   1379,    148,  75740,  75740, 283449,  75740,    148,\n",
       "           148,  75740, 283449,  75740, 283449,  75740,  75740,  75740,\n",
       "           148,  75740, 283449,  75740, 283449,  75740, 283449,  75740,\n",
       "          1379,  75740, 283449,   1379, 283449,  75740,  75740,   1379,\n",
       "         75740,    148,  75740,  75740,   1379, 283449, 283449,   1379,\n",
       "          1379, 283449,   1379,   1379,  75740, 283449, 283449, 283449,\n",
       "         75740,  75740,  75740,  75740, 283449,  75740, 283449,    148,\n",
       "        283449,    148, 283449,  75740, 283449,   1379,   1379,    148,\n",
       "        283449,   1379,    148,    148,    148,  75740,  75740, 283449,\n",
       "          1379,  75740,  75740,   1379,    148,   1379,   1379,   1379,\n",
       "         75740, 283449,   1379,  75740,   1379,   1379, 283449, 283449,\n",
       "           148, 283449,  75740,   1379,    148,  75740, 283449,  75740,\n",
       "          1379, 283449,   1379,    148, 283449, 283449,  75740,  75740,\n",
       "         75740,  75740, 283449, 283449,   1379,   1379, 283449,    148,\n",
       "         75740, 283449, 283449, 283449,   1379, 283449, 283449,   1379,\n",
       "         75740,  75740, 283449,   1379,  75740,  75740, 283449,  75740,\n",
       "        283449,    148, 283449, 283449,  75740,   1379,  75740, 283449,\n",
       "        283449,    148,  75740,  75740,    148, 283449,    148,   1379,\n",
       "          1379,    148,   1379,  75740, 283449,  75740,   1379, 283449,\n",
       "         75740,   1379,   1379,  75740, 283449, 283449,  75740, 283449,\n",
       "         75740, 283449,   1379,    148, 283449, 283449,   1379,  75740,\n",
       "        283449,  75740,   1379,  75740, 283449, 283449, 283449,  75740,\n",
       "          4398,   1379,   1379, 283449,  75740,    148, 283449, 283449,\n",
       "        283449,    148,  75740,  75740, 283449,   1379,    148,   1379,\n",
       "         75740,    148,   1379], dtype=int64),\n",
       " array([283449, 283449, 283449, 283449,    148,  75740,   1379,  75740,\n",
       "         75740,  75740, 283449, 283449,  75740,  75740, 283449, 283449,\n",
       "         75740,  75740,  75740,   1379,   1379,  75740, 283449, 283449,\n",
       "          1379, 283449,   1379,  75740,  75740,    148,  75740,   1379,\n",
       "          1379, 283449,  75740,    148,   1379,   1379,  75740,  75740,\n",
       "        283449,   1379,   1379, 283449,    148, 283449,   1379,  75740,\n",
       "        283449,   1379,    148,  75740,  75740, 283449,  75740,    148,\n",
       "           148,  75740, 283449,  75740, 283449,  75740,  75740,  75740,\n",
       "           148,  75740, 283449,  75740, 283449,  75740, 283449,  75740,\n",
       "          1379,  75740, 283449,   1379, 283449,  75740,  75740,   1379,\n",
       "         75740,    148,  75740,  75740,   1379, 283449, 283449,   1379,\n",
       "          1379, 283449,   1379,   1379,  75740, 283449, 283449, 283449,\n",
       "         75740,  75740,  75740,  75740, 283449,  75740, 283449,    148,\n",
       "        283449,    148, 283449,  75740, 283449,   1379,   1379,    148,\n",
       "        283449,   1379,    148,    148,    148,  75740,  75740, 283449,\n",
       "          1379,  75740,  75740,   1379,    148,   1379,   1379,   1379,\n",
       "         75740, 283449,   1379,  75740,   1379,   1379, 283449, 283449,\n",
       "           148, 283449,  75740,   1379,    148,  75740, 283449,  75740,\n",
       "          1379, 283449,   1379,    148, 283449, 283449,  75740,  75740,\n",
       "         75740,  75740, 283449, 283449,   1379,   1379, 283449,    148,\n",
       "         75740, 283449, 283449, 283449,   1379, 283449, 283449,   1379,\n",
       "         75740,  75740, 283449,   1379,  75740,  75740, 283449,  75740,\n",
       "        283449,    148, 283449, 283449,  75740,   1379,  75740, 283449,\n",
       "        283449,    148,  75740,  75740,    148, 283449,    148,   1379,\n",
       "          1379,    148,   1379,  75740, 283449,  75740,   1379, 283449,\n",
       "         75740,   1379,   1379,  75740, 283449, 283449,  75740, 283449,\n",
       "         75740, 283449,   1379,    148, 283449, 283449,   1379,  75740,\n",
       "        283449,  75740,   1379,  75740, 283449, 283449, 283449,  75740,\n",
       "          4398,   1379,   1379, 283449,  75740,    148, 283449, 283449,\n",
       "        283449,    148,  75740,  75740, 283449,   1379,    148,   1379,\n",
       "         75740,    148,   1379], dtype=int64),\n",
       " array([283449, 283449, 283449, 283449,    148,  75740,   1379,  75740,\n",
       "         75740,  75740, 283449, 283449,  75740,  75740, 283449, 283449,\n",
       "         75740,  75740,  75740,   1379,   1379,  75740, 283449, 283449,\n",
       "          1379, 283449,   1379,  75740,  75740,    148,  75740,   1379,\n",
       "          1379, 283449,  75740,    148,   1379,   1379,  75740,  75740,\n",
       "        283449,   1379,   1379, 283449,    148, 283449,   1379,  75740,\n",
       "        283449,   1379,    148,  75740,  75740, 283449,  75740,    148,\n",
       "           148,  75740, 283449,  75740, 283449,  75740,  75740,  75740,\n",
       "           148,  75740, 283449,  75740, 283449,  75740, 283449,  75740,\n",
       "          1379,  75740, 283449,   1379, 283449,  75740,  75740,   1379,\n",
       "         75740,    148,  75740,  75740,   1379, 283449, 283449,   1379,\n",
       "          1379, 283449,   1379,   1379,  75740, 283449, 283449, 283449,\n",
       "         75740,  75740,  75740,  75740, 283449,  75740, 283449,    148,\n",
       "        283449,    148, 283449,  75740, 283449,   1379,   1379,    148,\n",
       "        283449,   1379,    148,    148,    148,  75740,  75740, 283449,\n",
       "          1379,  75740,  75740,   1379,    148,   1379,   1379,   1379,\n",
       "         75740, 283449,   1379,  75740,   1379,   1379, 283449, 283449,\n",
       "           148, 283449,  75740,   1379,    148,  75740, 283449,  75740,\n",
       "          1379, 283449,   1379,    148, 283449, 283449,  75740,  75740,\n",
       "         75740,  75740, 283449, 283449,   1379,   1379, 283449,    148,\n",
       "         75740, 283449, 283449, 283449,   1379, 283449, 283449,   1379,\n",
       "         75740,  75740, 283449,   1379,  75740,  75740, 283449,  75740,\n",
       "        283449,    148, 283449, 283449,  75740,   1379,  75740, 283449,\n",
       "        283449,    148,  75740,  75740,    148, 283449,    148,   1379,\n",
       "          1379,    148,   1379,  75740, 283449,  75740,   1379, 283449,\n",
       "         75740,   1379,   1379,  75740, 283449, 283449,  75740, 283449,\n",
       "         75740, 283449,   1379,    148, 283449, 283449,   1379,  75740,\n",
       "        283449,  75740,   1379,  75740, 283449, 283449, 283449,  75740,\n",
       "          4398,   1379,   1379, 283449,  75740,    148, 283449, 283449,\n",
       "        283449,    148,  75740,  75740, 283449,   1379,    148,   1379,\n",
       "         75740,    148,   1379], dtype=int64),\n",
       " array([283449, 283449, 283449, 283449,    148,  75740,   1379,  75740,\n",
       "         75740,  75740, 283449, 283449,  75740,  75740, 283449, 283449,\n",
       "         75740,  75740,  75740,   1379,   1379,  75740, 283449, 283449,\n",
       "          1379, 283449,   1379,  75740,  75740,    148,  75740,   1379,\n",
       "          1379, 283449,  75740,    148,   1379,   1379,  75740,  75740,\n",
       "        283449,   1379,   1379, 283449,    148, 283449,   1379,  75740,\n",
       "        283449,   1379,    148,  75740,  75740, 283449,  75740,    148,\n",
       "           148,  75740, 283449,  75740, 283449,  75740,  75740,  75740,\n",
       "           148,  75740, 283449,  75740, 283449,  75740, 283449,  75740,\n",
       "          1379,  75740, 283449,   1379, 283449,  75740,  75740,   1379,\n",
       "         75740,    148,  75740,  75740,   1379, 283449, 283449,   1379,\n",
       "          1379, 283449,   1379,   1379,  75740, 283449, 283449, 283449,\n",
       "         75740,  75740,  75740,  75740, 283449,  75740, 283449,    148,\n",
       "        283449,    148, 283449,  75740, 283449,   1379,   1379,    148,\n",
       "        283449,   1379,    148,    148,    148,  75740,  75740, 283449,\n",
       "          1379,  75740,  75740,   1379,    148,   1379,   1379,   1379,\n",
       "         75740, 283449,   1379,  75740,   1379,   1379, 283449, 283449,\n",
       "           148, 283449,  75740,   1379,    148,  75740, 283449,  75740,\n",
       "          1379, 283449,   1379,    148, 283449, 283449,  75740,  75740,\n",
       "         75740,  75740, 283449, 283449,   1379,   1379, 283449,    148,\n",
       "         75740, 283449, 283449, 283449,   1379, 283449, 283449,   1379,\n",
       "         75740,  75740, 283449,   1379,  75740,  75740, 283449,  75740,\n",
       "        283449,    148, 283449, 283449,  75740,   1379,  75740, 283449,\n",
       "        283449,    148,  75740,  75740,    148, 283449,    148,   1379,\n",
       "          1379,    148,   1379,  75740, 283449,  75740,   1379, 283449,\n",
       "         75740,   1379,   1379,  75740, 283449, 283449,  75740, 283449,\n",
       "         75740, 283449,   1379,    148, 283449, 283449,   1379,  75740,\n",
       "        283449,  75740,   1379,  75740, 283449, 283449, 283449,  75740,\n",
       "          4398,   1379,   1379, 283449,  75740,    148, 283449, 283449,\n",
       "        283449,    148,  75740,  75740, 283449,   1379,    148,   1379,\n",
       "         75740,    148,   1379], dtype=int64),\n",
       " array([283449, 283449, 283449, 283449,    148,  75740,   1379,  75740,\n",
       "         75740,  75740, 283449, 283449,  75740,  75740, 283449, 283449,\n",
       "         75740,  75740,  75740,   1379,   1379,  75740, 283449, 283449,\n",
       "          1379, 283449,   1379,  75740,  75740,    148,  75740,   1379,\n",
       "          1379, 283449,  75740,    148,   1379,   1379,  75740,  75740,\n",
       "        283449,   1379,   1379, 283449,    148, 283449,   1379,  75740,\n",
       "        283449,   1379,    148,  75740,  75740, 283449,  75740,    148,\n",
       "           148,  75740, 283449,  75740, 283449,  75740,  75740,  75740,\n",
       "           148,  75740, 283449,  75740, 283449,  75740, 283449,  75740,\n",
       "          1379,  75740, 283449,   1379, 283449,  75740,  75740,   1379,\n",
       "         75740,    148,  75740,  75740,   1379, 283449, 283449,   1379,\n",
       "          1379, 283449,   1379,   1379,  75740, 283449, 283449, 283449,\n",
       "         75740,  75740,  75740,  75740, 283449,  75740, 283449,    148,\n",
       "        283449,    148, 283449,  75740, 283449,   1379,   1379,    148,\n",
       "        283449,   1379,    148,    148,    148,  75740,  75740, 283449,\n",
       "          1379,  75740,  75740,   1379,    148,   1379,   1379,   1379,\n",
       "         75740, 283449,   1379,  75740,   1379,   1379, 283449, 283449,\n",
       "           148, 283449,  75740,   1379,    148,  75740, 283449,  75740,\n",
       "          1379, 283449,   1379,    148, 283449, 283449,  75740,  75740,\n",
       "         75740,  75740, 283449, 283449,   1379,   1379, 283449,    148,\n",
       "         75740, 283449, 283449, 283449,   1379, 283449, 283449,   1379,\n",
       "         75740,  75740, 283449,   1379,  75740,  75740, 283449,  75740,\n",
       "        283449,    148, 283449, 283449,  75740,   1379,  75740, 283449,\n",
       "        283449,    148,  75740,  75740,    148, 283449,    148,   1379,\n",
       "          1379,    148,   1379,  75740, 283449,  75740,   1379, 283449,\n",
       "         75740,   1379,   1379,  75740, 283449, 283449,  75740, 283449,\n",
       "         75740, 283449,   1379,    148, 283449, 283449,   1379,  75740,\n",
       "        283449,  75740,   1379,  75740, 283449, 283449, 283449,  75740,\n",
       "          4398,   1379,   1379, 283449,  75740,    148, 283449, 283449,\n",
       "        283449,    148,  75740,  75740, 283449,   1379,    148,   1379,\n",
       "         75740,    148,   1379], dtype=int64)]"
      ]
     },
     "execution_count": 15,
     "metadata": {},
     "output_type": "execute_result"
    }
   ],
   "source": [
    "preds"
   ]
  },
  {
   "cell_type": "code",
   "execution_count": 24,
   "metadata": {},
   "outputs": [
    {
     "data": {
      "text/plain": [
       "array([283449, 283449, 283449, 283449,    148,  75740,   1379,  75740,\n",
       "        75740,  75740, 283449, 283449,  75740,  75740, 283449, 283449,\n",
       "        75740,  75740,  75740,   1379,   1379,  75740, 283449, 283449,\n",
       "         1379, 283449,   1379,  75740,  75740,    148,  75740,   1379,\n",
       "         1379, 283449,  75740,    148,   1379,   1379,  75740,  75740,\n",
       "       283449,   1379,   1379, 283449,    148, 283449,   1379,  75740,\n",
       "       283449,   1379,    148,  75740,  75740, 283449,  75740,    148,\n",
       "          148,  75740, 283449,  75740, 283449,  75740,  75740,  75740,\n",
       "          148,  75740, 283449,  75740, 283449,  75740, 283449,  75740,\n",
       "         1379,  75740, 283449,   1379, 283449,  75740,  75740,   1379,\n",
       "        75740,    148,  75740,  75740,   1379, 283449, 283449,   1379,\n",
       "         1379, 283449,   1379,   1379,  75740, 283449, 283449, 283449,\n",
       "        75740,  75740,  75740,  75740, 283449,  75740, 283449,    148,\n",
       "       283449,    148, 283449,  75740, 283449,   1379,   1379,    148,\n",
       "       283449,   1379,    148,    148,    148,  75740,  75740, 283449,\n",
       "         1379,  75740,  75740,   1379,    148,   1379,   1379,   1379,\n",
       "        75740, 283449,   1379,  75740,   1379,   1379, 283449, 283449,\n",
       "          148, 283449,  75740,   1379,    148,  75740, 283449,  75740,\n",
       "         1379, 283449,   1379,    148, 283449, 283449,  75740,  75740,\n",
       "        75740,  75740, 283449, 283449,   1379,   1379, 283449,    148,\n",
       "        75740, 283449, 283449, 283449,   1379, 283449, 283449,   1379,\n",
       "        75740,  75740, 283449,   1379,  75740,  75740, 283449,  75740,\n",
       "       283449,    148, 283449, 283449,  75740,   1379,  75740, 283449,\n",
       "       283449,    148,  75740,  75740,    148, 283449,    148,   1379,\n",
       "         1379,    148,   1379,  75740, 283449,  75740,   1379, 283449,\n",
       "        75740,   1379,   1379,  75740, 283449, 283449,  75740, 283449,\n",
       "        75740, 283449,   1379,    148, 283449, 283449,   1379,  75740,\n",
       "       283449,  75740,   1379,  75740, 283449, 283449, 283449,  75740,\n",
       "         4398,   1379,   1379, 283449,  75740,    148, 283449, 283449,\n",
       "       283449,    148,  75740,  75740, 283449,   1379,    148,   1379,\n",
       "        75740,    148,   1379])"
      ]
     },
     "execution_count": 24,
     "metadata": {},
     "output_type": "execute_result"
    }
   ],
   "source": [
    "np.mean(preds,axis=0).astype(int)"
   ]
  },
  {
   "cell_type": "code",
   "execution_count": 70,
   "metadata": {},
   "outputs": [],
   "source": [
    "kk= submission.copy()"
   ]
  },
  {
   "cell_type": "code",
   "execution_count": 71,
   "metadata": {},
   "outputs": [],
   "source": [
    "kk['box_off_num'] = np.mean(preds,axis=0)"
   ]
  },
  {
   "cell_type": "code",
   "execution_count": 72,
   "metadata": {},
   "outputs": [
    {
     "data": {
      "text/html": [
       "<div>\n",
       "<style scoped>\n",
       "    .dataframe tbody tr th:only-of-type {\n",
       "        vertical-align: middle;\n",
       "    }\n",
       "\n",
       "    .dataframe tbody tr th {\n",
       "        vertical-align: top;\n",
       "    }\n",
       "\n",
       "    .dataframe thead th {\n",
       "        text-align: right;\n",
       "    }\n",
       "</style>\n",
       "<table border=\"1\" class=\"dataframe\">\n",
       "  <thead>\n",
       "    <tr style=\"text-align: right;\">\n",
       "      <th></th>\n",
       "      <th>title</th>\n",
       "      <th>box_off_num</th>\n",
       "    </tr>\n",
       "  </thead>\n",
       "  <tbody>\n",
       "    <tr>\n",
       "      <th>0</th>\n",
       "      <td>용서는 없다</td>\n",
       "      <td>283449.0</td>\n",
       "    </tr>\n",
       "    <tr>\n",
       "      <th>1</th>\n",
       "      <td>아빠가 여자를 좋아해</td>\n",
       "      <td>283449.0</td>\n",
       "    </tr>\n",
       "    <tr>\n",
       "      <th>2</th>\n",
       "      <td>하모니</td>\n",
       "      <td>283449.0</td>\n",
       "    </tr>\n",
       "    <tr>\n",
       "      <th>3</th>\n",
       "      <td>의형제</td>\n",
       "      <td>283449.0</td>\n",
       "    </tr>\n",
       "    <tr>\n",
       "      <th>4</th>\n",
       "      <td>평행 이론</td>\n",
       "      <td>148.0</td>\n",
       "    </tr>\n",
       "    <tr>\n",
       "      <th>...</th>\n",
       "      <td>...</td>\n",
       "      <td>...</td>\n",
       "    </tr>\n",
       "    <tr>\n",
       "      <th>238</th>\n",
       "      <td>해에게서 소년에게</td>\n",
       "      <td>148.0</td>\n",
       "    </tr>\n",
       "    <tr>\n",
       "      <th>239</th>\n",
       "      <td>울보 권투부</td>\n",
       "      <td>1379.0</td>\n",
       "    </tr>\n",
       "    <tr>\n",
       "      <th>240</th>\n",
       "      <td>어떤살인</td>\n",
       "      <td>75740.0</td>\n",
       "    </tr>\n",
       "    <tr>\n",
       "      <th>241</th>\n",
       "      <td>말하지 못한 비밀</td>\n",
       "      <td>148.0</td>\n",
       "    </tr>\n",
       "    <tr>\n",
       "      <th>242</th>\n",
       "      <td>조선안방 스캔들-칠거지악 2</td>\n",
       "      <td>1379.0</td>\n",
       "    </tr>\n",
       "  </tbody>\n",
       "</table>\n",
       "<p>243 rows × 2 columns</p>\n",
       "</div>"
      ],
      "text/plain": [
       "               title  box_off_num\n",
       "0             용서는 없다     283449.0\n",
       "1        아빠가 여자를 좋아해     283449.0\n",
       "2                하모니     283449.0\n",
       "3                의형제     283449.0\n",
       "4              평행 이론        148.0\n",
       "..               ...          ...\n",
       "238        해에게서 소년에게        148.0\n",
       "239           울보 권투부       1379.0\n",
       "240             어떤살인      75740.0\n",
       "241        말하지 못한 비밀        148.0\n",
       "242  조선안방 스캔들-칠거지악 2       1379.0\n",
       "\n",
       "[243 rows x 2 columns]"
      ]
     },
     "execution_count": 72,
     "metadata": {},
     "output_type": "execute_result"
    }
   ],
   "source": [
    "kk"
   ]
  },
  {
   "cell_type": "code",
   "execution_count": 73,
   "metadata": {},
   "outputs": [],
   "source": [
    "kk.to_csv('fff.csv',index=False)"
   ]
  },
  {
   "cell_type": "code",
   "execution_count": null,
   "metadata": {},
   "outputs": [],
   "source": []
  }
 ],
 "metadata": {
  "kernelspec": {
   "display_name": "Python 3",
   "language": "python",
   "name": "python3"
  },
  "language_info": {
   "codemirror_mode": {
    "name": "ipython",
    "version": 3
   },
   "file_extension": ".py",
   "mimetype": "text/x-python",
   "name": "python",
   "nbconvert_exporter": "python",
   "pygments_lexer": "ipython3",
   "version": "3.7.6"
  }
 },
 "nbformat": 4,
 "nbformat_minor": 4
}
